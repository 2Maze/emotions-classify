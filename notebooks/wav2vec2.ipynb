{
 "cells": [
  {
   "cell_type": "code",
   "execution_count": 1,
   "id": "dfae6beb-7432-4d64-a766-04091b2469ca",
   "metadata": {},
   "outputs": [],
   "source": [
    "import torchaudio\n",
    "import torch"
   ]
  },
  {
   "cell_type": "code",
   "execution_count": 2,
   "id": "45e77f57-4091-4012-aa14-bdeab4e45d05",
   "metadata": {},
   "outputs": [],
   "source": [
    "from utils.data import EmotionDataset"
   ]
  },
  {
   "cell_type": "code",
   "execution_count": 3,
   "id": "c20f198e-24ac-4c85-8b1e-791c390174c9",
   "metadata": {},
   "outputs": [],
   "source": [
    "dataset = EmotionDataset(annotation='data/dataset/annotations.json')"
   ]
  },
  {
   "cell_type": "code",
   "execution_count": 4,
   "id": "ea841820-7dd2-476d-b366-55be9612baea",
   "metadata": {},
   "outputs": [
    {
     "data": {
      "text/plain": [
       "tensor([[1, 0],\n",
       "        [1, 2]])"
      ]
     },
     "execution_count": 4,
     "metadata": {},
     "output_type": "execute_result"
    }
   ],
   "source": [
    "from torch.nn.utils.rnn import pad_sequence\n",
    "\n",
    "pad_sequence([torch.tensor([1,]),  torch.tensor([1, 2])], batch_first=True)"
   ]
  },
  {
   "cell_type": "code",
   "execution_count": 5,
   "id": "e08e3109-f4e8-410b-8f96-d81bbfa36890",
   "metadata": {},
   "outputs": [],
   "source": [
    "from torch.utils.data import DataLoader\n",
    "from torch.nn.utils.rnn import pad_sequence\n",
    "\n",
    "def collate_fn(items):\n",
    "    output = {key: [] for key in list(items[0].keys())}\n",
    "    for item in items:\n",
    "        for key in item:\n",
    "            output[key].append(torch.tensor(item[key]))\n",
    "    for key in list(output.keys()):\n",
    "        if key == 'emotion' or key == 'state':\n",
    "            output[key] = torch.stack(output[key])\n",
    "        else:\n",
    "            output[key] = pad_sequence(output[key], batch_first=True)\n",
    "    return output\n",
    "\n",
    "dataloader = DataLoader(dataset, batch_size=1, num_workers=1, collate_fn=collate_fn, shuffle=True)"
   ]
  },
  {
   "cell_type": "code",
   "execution_count": 6,
   "id": "8a0e7713-54a7-4253-80d4-c6ef2eb6f209",
   "metadata": {},
   "outputs": [
    {
     "data": {
      "text/plain": [
       "{'array': tensor([[-0.0028, -0.0038, -0.0032,  ...,  0.0077,  0.0072,  0.0067]]),\n",
       " 'emotion': tensor([4]),\n",
       " 'state': tensor([2])}"
      ]
     },
     "execution_count": 6,
     "metadata": {},
     "output_type": "execute_result"
    }
   ],
   "source": [
    "batch = next(iter(dataloader))\n",
    "batch"
   ]
  },
  {
   "cell_type": "code",
   "execution_count": 14,
   "id": "8ff0fdc8-f4c7-42b1-af75-1e3df965489c",
   "metadata": {},
   "outputs": [],
   "source": [
    "from sklearn.model_selection import train_test_split\n",
    "from torch.utils.data import Subset\n",
    "import numpy as np\n",
    "train_idx, validation_idx = train_test_split(np.arange(len(dataset)),\n",
    "                                             test_size=0.15,\n",
    "                                             random_state=999,\n",
    "                                             shuffle=True,\n",
    "                                             stratify=dataset.emotion_labels)\n",
    "train_dataset = Subset(dataset, train_idx)\n",
    "validation_dataset = Subset(dataset, validation_idx)\n",
    "\n",
    "# Dataloader for train and val\n",
    "train_loader = DataLoader(train_dataset, batch_size=1, shuffle=True)\n",
    "validation_loader = DataLoader(validation_dataset, batch_size=1, shuffle=False)"
   ]
  },
  {
   "cell_type": "code",
   "execution_count": 7,
   "id": "83c21b06-33f5-4bca-bcc3-ef11b4f04446",
   "metadata": {},
   "outputs": [],
   "source": [
    "import torch.nn as nn\n",
    "\n",
    "class Wav2Vec2Classifier(nn.Module):\n",
    "    def __init__(self, num_classes):\n",
    "        super(Wav2Vec2Classifier, self).__init__()\n",
    "        bundle = torchaudio.pipelines.WAV2VEC2_BASE\n",
    "        self.feature_extractor = bundle.get_model()\n",
    "        self.linear = nn.Linear(768, num_classes)\n",
    "        \n",
    "    def forward(self, X):\n",
    "        features = self.get_embeddings(X)\n",
    "        logits = self.linear(features)\n",
    "        return logits\n",
    "    \n",
    "    def get_embeddings(self, X):\n",
    "        embeddings = self.feature_extractor(X)[0].mean(axis=1)\n",
    "        return nn.functional.normalize(embeddings)"
   ]
  },
  {
   "cell_type": "code",
   "execution_count": 8,
   "id": "118a0e15-07b1-4dbd-b803-7ec31508374d",
   "metadata": {},
   "outputs": [],
   "source": [
    "import lightning as L\n",
    "\n",
    "class LitModule(L.LightningModule):\n",
    "    def __init__(self, num_classes: int):\n",
    "        super().__init__()\n",
    "        # Model\n",
    "        self.model = Wav2Vec2Classifier(num_classes)\n",
    "\n",
    "    def forward(self, x):\n",
    "        return self.model(x)\n",
    "\n",
    "    def training_step(self, batch, batch_idx):\n",
    "        outputs = self.forward(batch['array'])\n",
    "        loss = F.cross_entropy(outputs, batch['emotion'])\n",
    "        self.log('train_loss', loss)\n",
    "        return loss\n",
    "\n",
    "    def validation_step(self, batch, batch_idx):\n",
    "        x, y = batch\n",
    "        outputs = self.forward(x)\n",
    "        loss = F.cross_entropy(outputs, y)\n",
    "        self.acc(outputs, y)\n",
    "        self.f1(outputs, y)\n",
    "        self.log('val_loss', loss)\n",
    "\n",
    "    def on_validation_epoch_end(self):\n",
    "        self.log('val_acc', self.acc)\n",
    "        self.log('val_f1', self.f1)\n",
    "\n",
    "    def configure_optimizers(self):\n",
    "        optimizer = torch.optim.Adam(self.parameters(), lr=1e-4)\n",
    "        scheduler = torch.optim.lr_scheduler.MultiStepLR(optimizer, milestones=[1000, 1100], gamma=0.1)\n",
    "        return [optimizer], [scheduler]"
   ]
  },
  {
   "cell_type": "code",
   "execution_count": 9,
   "id": "04ff2f28-9845-4d35-be8d-7d35e0450fe1",
   "metadata": {},
   "outputs": [
    {
     "name": "stderr",
     "output_type": "stream",
     "text": [
      "GPU available: True (cuda), used: True\n",
      "TPU available: False, using: 0 TPU cores\n",
      "IPU available: False, using: 0 IPUs\n",
      "HPU available: False, using: 0 HPUs\n",
      "/home/danil/anaconda3/envs/emotion-diarization/lib/python3.10/site-packages/lightning/pytorch/trainer/configuration_validator.py:74: You defined a `validation_step` but have no `val_dataloader`. Skipping val loop.\n",
      "You are using a CUDA device ('NVIDIA GeForce RTX 3050') that has Tensor Cores. To properly utilize them, you should set `torch.set_float32_matmul_precision('medium' | 'high')` which will trade-off precision for performance. For more details, read https://pytorch.org/docs/stable/generated/torch.set_float32_matmul_precision.html#torch.set_float32_matmul_precision\n",
      "LOCAL_RANK: 0 - CUDA_VISIBLE_DEVICES: [0]\n",
      "\n",
      "  | Name  | Type               | Params\n",
      "---------------------------------------------\n",
      "0 | model | Wav2Vec2Classifier | 94.4 M\n",
      "---------------------------------------------\n",
      "94.4 M    Trainable params\n",
      "0         Non-trainable params\n",
      "94.4 M    Total params\n",
      "377.505   Total estimated model params size (MB)\n",
      "/home/danil/anaconda3/envs/emotion-diarization/lib/python3.10/site-packages/lightning/pytorch/trainer/connectors/data_connector.py:441: The 'train_dataloader' does not have many workers which may be a bottleneck. Consider increasing the value of the `num_workers` argument` to `num_workers=11` in the `DataLoader` to improve performance.\n"
     ]
    },
    {
     "data": {
      "application/vnd.jupyter.widget-view+json": {
       "model_id": "9ddb167e79fe46f09d20b5e624ac269e",
       "version_major": 2,
       "version_minor": 0
      },
      "text/plain": [
       "Training: |                                                                                                   …"
      ]
     },
     "metadata": {},
     "output_type": "display_data"
    },
    {
     "name": "stderr",
     "output_type": "stream",
     "text": [
      "`Trainer.fit` stopped: `max_epochs=1` reached.\n"
     ]
    }
   ],
   "source": [
    "import torch.nn.functional as F\n",
    "\n",
    "from lightning.pytorch.callbacks import ModelCheckpoint\n",
    "from lightning.pytorch.callbacks import LearningRateMonitor\n",
    "\n",
    "checkpoint_callback = ModelCheckpoint(\n",
    "        dirpath='checkpoints',\n",
    "        filename=\"classifier_{epoch:02d}\",\n",
    "        every_n_epochs=2,\n",
    "        save_top_k=-1,\n",
    ")\n",
    "lr_monitor = LearningRateMonitor(logging_interval='epoch')\n",
    "\n",
    "model = LitModule(len(emotion_map))\n",
    "trainer = L.Trainer(accelerator='gpu',\n",
    "                    devices=1,\n",
    "                    max_epochs=50,\n",
    "                    callbacks=[checkpoint_callback, lr_monitor])\n",
    "trainer.fit(model, dataloader)"
   ]
  },
  {
   "cell_type": "code",
   "execution_count": null,
   "id": "b6d1de26-b4b5-41c8-a580-8bcc58e65254",
   "metadata": {},
   "outputs": [],
   "source": []
  }
 ],
 "metadata": {
  "kernelspec": {
   "display_name": "Python 3 (ipykernel)",
   "language": "python",
   "name": "python3"
  },
  "language_info": {
   "codemirror_mode": {
    "name": "ipython",
    "version": 3
   },
   "file_extension": ".py",
   "mimetype": "text/x-python",
   "name": "python",
   "nbconvert_exporter": "python",
   "pygments_lexer": "ipython3",
   "version": "3.10.13"
  }
 },
 "nbformat": 4,
 "nbformat_minor": 5
}
